{
 "cells": [
  {
   "cell_type": "code",
   "execution_count": 1,
   "id": "fb1af2ff",
   "metadata": {},
   "outputs": [
    {
     "name": "stdout",
     "output_type": "stream",
     "text": [
      "arewhatdoing?hello\n"
     ]
    }
   ],
   "source": [
    "string=\"{2}{1}{3}{0}\".format('hello','what','are','doing?')\n",
    "print(string)\n"
   ]
  },
  {
   "cell_type": "code",
   "execution_count": null,
   "id": "9ec60156",
   "metadata": {},
   "outputs": [],
   "source": [
    "import datetime\n",
    "import calendar\n",
    "def findDay(d):\n",
    "\tdaynum = datetime.datetime.strptime(d, '%d %m %Y').weekday()\n",
    "\treturn (calendar.day_name[daynum])\n",
    "N=int(input())\n",
    "res=[]\n",
    "for i in range(N):\n",
    "    dlst=input().split('/')\n",
    "    res.append(findDay(dlst[0]+\" \"+dlst[1]+\" \"+dlst[2]))\n",
    "for i in res:\n",
    "    print(i)\n"
   ]
  },
  {
   "cell_type": "code",
   "execution_count": null,
   "id": "b82a3076",
   "metadata": {},
   "outputs": [],
   "source": [
    "from collection import Counter\n",
    "def dup:\n",
    "    d=Counter(input)\n",
    "    j=-1\n",
    "    for i in d.values():\n",
    "        j=j+1\n",
    "        if(i>1):\n",
    "            print.keys()\n",
    "if name"
   ]
  },
  {
   "cell_type": "code",
   "execution_count": null,
   "id": "161aaf11",
   "metadata": {},
   "outputs": [],
   "source": []
  },
  {
   "cell_type": "code",
   "execution_count": null,
   "id": "0313a410",
   "metadata": {},
   "outputs": [],
   "source": []
  },
  {
   "cell_type": "code",
   "execution_count": null,
   "id": "f0eee36c",
   "metadata": {},
   "outputs": [],
   "source": []
  }
 ],
 "metadata": {
  "kernelspec": {
   "display_name": "Python 3 (ipykernel)",
   "language": "python",
   "name": "python3"
  },
  "language_info": {
   "codemirror_mode": {
    "name": "ipython",
    "version": 3
   },
   "file_extension": ".py",
   "mimetype": "text/x-python",
   "name": "python",
   "nbconvert_exporter": "python",
   "pygments_lexer": "ipython3",
   "version": "3.9.7"
  }
 },
 "nbformat": 4,
 "nbformat_minor": 5
}
