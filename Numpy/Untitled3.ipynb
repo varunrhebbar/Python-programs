{
 "cells": [
  {
   "cell_type": "code",
   "execution_count": 21,
   "id": "cce0d656",
   "metadata": {},
   "outputs": [
    {
     "name": "stdout",
     "output_type": "stream",
     "text": [
      "Start\n",
      "1 >>>>\n",
      "2 >>>>\n",
      "3 >>>>\n",
      "4 >>>>\n",
      "5 >>>>\n",
      "6 >>>>\n",
      "7 >>>>\n",
      "8 >>>>\n",
      "9 >>>>\n",
      "10 >>>>\n"
     ]
    }
   ],
   "source": [
    "import time\n",
    "count_sec=10\n",
    "for i in (range(count_sec+1)):\n",
    "    if i>0:\n",
    "        print(i,\">>>>\")\n",
    "        time.sleep(1)\n",
    "    else:\n",
    "        print(\"Start\")\n",
    "    "
   ]
  },
  {
   "cell_type": "code",
   "execution_count": null,
   "id": "40e6fa26",
   "metadata": {},
   "outputs": [],
   "source": []
  },
  {
   "cell_type": "code",
   "execution_count": null,
   "id": "ba985422",
   "metadata": {},
   "outputs": [],
   "source": []
  },
  {
   "cell_type": "code",
   "execution_count": null,
   "id": "83bed4bc",
   "metadata": {},
   "outputs": [],
   "source": []
  },
  {
   "cell_type": "code",
   "execution_count": null,
   "id": "fb9b9b1f",
   "metadata": {},
   "outputs": [],
   "source": []
  }
 ],
 "metadata": {
  "kernelspec": {
   "display_name": "Python 3 (ipykernel)",
   "language": "python",
   "name": "python3"
  },
  "language_info": {
   "codemirror_mode": {
    "name": "ipython",
    "version": 3
   },
   "file_extension": ".py",
   "mimetype": "text/x-python",
   "name": "python",
   "nbconvert_exporter": "python",
   "pygments_lexer": "ipython3",
   "version": "3.9.7"
  }
 },
 "nbformat": 4,
 "nbformat_minor": 5
}
