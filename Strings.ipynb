{
 "cells": [
  {
   "cell_type": "code",
   "execution_count": 1,
   "id": "07347ea0",
   "metadata": {},
   "outputs": [
    {
     "name": "stdout",
     "output_type": "stream",
     "text": [
      "Varun R Hebbar\n"
     ]
    }
   ],
   "source": [
    "var=\"Varun R Hebbar\"\n",
    "print(var)"
   ]
  },
  {
   "cell_type": "code",
   "execution_count": 7,
   "id": "972606a9",
   "metadata": {},
   "outputs": [
    {
     "name": "stdout",
     "output_type": "stream",
     "text": [
      " \n"
     ]
    }
   ],
   "source": [
    "var = \"Varun R Hebbar\"\n",
    "print(var[5])\n"
   ]
  },
  {
   "cell_type": "code",
   "execution_count": 10,
   "id": "be3bd256",
   "metadata": {},
   "outputs": [
    {
     "name": "stdout",
     "output_type": "stream",
     "text": [
      "V\n",
      "a\n",
      "r\n",
      "u\n",
      "n\n",
      " \n",
      "R\n",
      " \n",
      "H\n",
      "e\n",
      "b\n",
      "b\n",
      "a\n",
      "r\n"
     ]
    }
   ],
   "source": [
    "for i in \"Varun R Hebbar\":\n",
    "    print (i)"
   ]
  },
  {
   "cell_type": "code",
   "execution_count": 11,
   "id": "1907d6f8",
   "metadata": {},
   "outputs": [
    {
     "name": "stdout",
     "output_type": "stream",
     "text": [
      "Hai what are y\n"
     ]
    }
   ],
   "source": [
    "var = \"Hai what are you doing??\"\n",
    "print(var[:14])\n",
    "\n"
   ]
  },
  {
   "cell_type": "code",
   "execution_count": 12,
   "id": "467ec71f",
   "metadata": {},
   "outputs": [
    {
     "name": "stdout",
     "output_type": "stream",
     "text": [
      "what are you doing??\n"
     ]
    }
   ],
   "source": [
    "var = \"Hai what are you doing??\"\n",
    "print(var[4:])"
   ]
  },
  {
   "cell_type": "code",
   "execution_count": 13,
   "id": "7912e4c3",
   "metadata": {},
   "outputs": [
    {
     "name": "stdout",
     "output_type": "stream",
     "text": [
      "what are \n"
     ]
    }
   ],
   "source": [
    "var = \"Hai what are you doing??\"\n",
    "print(var[4:13])"
   ]
  },
  {
   "cell_type": "code",
   "execution_count": 15,
   "id": "ad5472a9",
   "metadata": {},
   "outputs": [
    {
     "name": "stdout",
     "output_type": "stream",
     "text": [
      "True\n"
     ]
    }
   ],
   "source": [
    "var = \"Hai what are you doing??\"\n",
    "print(\"hello\"not in var)"
   ]
  },
  {
   "cell_type": "code",
   "execution_count": 16,
   "id": "2be7bf2f",
   "metadata": {},
   "outputs": [
    {
     "name": "stdout",
     "output_type": "stream",
     "text": [
      "False\n"
     ]
    }
   ],
   "source": [
    "var = \"Hai what are you doing??\"\n",
    "print(\"hello\" in var)"
   ]
  },
  {
   "cell_type": "code",
   "execution_count": null,
   "id": "6eb1d9f1",
   "metadata": {},
   "outputs": [],
   "source": []
  }
 ],
 "metadata": {
  "kernelspec": {
   "display_name": "Python 3 (ipykernel)",
   "language": "python",
   "name": "python3"
  },
  "language_info": {
   "codemirror_mode": {
    "name": "ipython",
    "version": 3
   },
   "file_extension": ".py",
   "mimetype": "text/x-python",
   "name": "python",
   "nbconvert_exporter": "python",
   "pygments_lexer": "ipython3",
   "version": "3.9.7"
  }
 },
 "nbformat": 4,
 "nbformat_minor": 5
}
