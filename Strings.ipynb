{
 "cells": [
  {
   "cell_type": "code",
   "execution_count": 1,
   "id": "649110ff",
   "metadata": {},
   "outputs": [
    {
     "name": "stdout",
     "output_type": "stream",
     "text": [
      "Varun R Hebbar\n"
     ]
    }
   ],
   "source": [
    "var=\"Varun R Hebbar\"\n",
    "print(var)"
   ]
  },
  {
   "cell_type": "code",
   "execution_count": 7,
   "id": "728f8df3",
   "metadata": {},
   "outputs": [
    {
     "name": "stdout",
     "output_type": "stream",
     "text": [
      " \n"
     ]
    }
   ],
   "source": [
    "var = \"Varun R Hebbar\"\n",
    "print(var[5])\n"
   ]
  },
  {
   "cell_type": "code",
   "execution_count": 10,
   "id": "5ec70b21",
   "metadata": {},
   "outputs": [
    {
     "name": "stdout",
     "output_type": "stream",
     "text": [
      "V\n",
      "a\n",
      "r\n",
      "u\n",
      "n\n",
      " \n",
      "R\n",
      " \n",
      "H\n",
      "e\n",
      "b\n",
      "b\n",
      "a\n",
      "r\n"
     ]
    }
   ],
   "source": [
    "for i in \"Varun R Hebbar\":\n",
    "    print (i)"
   ]
  },
  {
   "cell_type": "code",
   "execution_count": 11,
   "id": "9fb43921",
   "metadata": {},
   "outputs": [
    {
     "name": "stdout",
     "output_type": "stream",
     "text": [
      "Hai what are y\n"
     ]
    }
   ],
   "source": [
    "var = \"Hai what are you doing??\"\n",
    "print(var[:14])\n",
    "\n"
   ]
  },
  {
   "cell_type": "code",
   "execution_count": 12,
   "id": "39dcee7a",
   "metadata": {},
   "outputs": [
    {
     "name": "stdout",
     "output_type": "stream",
     "text": [
      "what are you doing??\n"
     ]
    }
   ],
   "source": [
    "var = \"Hai what are you doing??\"\n",
    "print(var[4:])"
   ]
  },
  {
   "cell_type": "code",
   "execution_count": 13,
   "id": "692a77f3",
   "metadata": {},
   "outputs": [
    {
     "name": "stdout",
     "output_type": "stream",
     "text": [
      "what are \n"
     ]
    }
   ],
   "source": [
    "var = \"Hai what are you doing??\"\n",
    "print(var[4:13])"
   ]
  },
  {
   "cell_type": "code",
   "execution_count": 14,
   "id": "493b59d3",
   "metadata": {},
   "outputs": [
    {
     "ename": "SyntaxError",
     "evalue": "invalid syntax (Temp/ipykernel_5512/3854276598.py, line 2)",
     "output_type": "error",
     "traceback": [
      "\u001b[1;36m  File \u001b[1;32m\"C:\\Users\\varun\\AppData\\Local\\Temp/ipykernel_5512/3854276598.py\"\u001b[1;36m, line \u001b[1;32m2\u001b[0m\n\u001b[1;33m    print(\"hello\"not in var)ng??\"\u001b[0m\n\u001b[1;37m                            ^\u001b[0m\n\u001b[1;31mSyntaxError\u001b[0m\u001b[1;31m:\u001b[0m invalid syntax\n"
     ]
    }
   ],
   "source": [
    "var = \"Hai what are you doing??\"\n",
    "print(\"hello\"not in var)ng??\""
   ]
  },
  {
   "cell_type": "code",
   "execution_count": null,
   "id": "995715b0",
   "metadata": {},
   "outputs": [],
   "source": [
    "var = \"Hai what are you doing??\"\n",
    "print(\"hello\" in var)"
   ]
  }
 ],
 "metadata": {
  "kernelspec": {
   "display_name": "Python 3 (ipykernel)",
   "language": "python",
   "name": "python3"
  },
  "language_info": {
   "codemirror_mode": {
    "name": "ipython",
    "version": 3
   },
   "file_extension": ".py",
   "mimetype": "text/x-python",
   "name": "python",
   "nbconvert_exporter": "python",
   "pygments_lexer": "ipython3",
   "version": "3.9.7"
  }
 },
 "nbformat": 4,
 "nbformat_minor": 5
}
