{
 "cells": [
  {
   "cell_type": "code",
   "execution_count": 31,
   "id": "ce6016d4",
   "metadata": {},
   "outputs": [
    {
     "name": "stdout",
     "output_type": "stream",
     "text": [
      "Varun 22\n"
     ]
    }
   ],
   "source": [
    "class father:\n",
    "    def __init__(self, name, age):\n",
    "        self.name = name\n",
    "        self.age = age\n",
    "\n",
    "    def printname(self):\n",
    "        print(self.name, self.age)\n",
    "\n",
    "class son(father):\n",
    "    def __init__(self, name, age):\n",
    "        father.__init__(self, name, age)\n",
    "\n",
    "x = son(\"Varun\", 22)\n",
    "x.printname()"
   ]
  },
  {
   "cell_type": "code",
   "execution_count": 55,
   "id": "cc663fe3",
   "metadata": {},
   "outputs": [
    {
     "name": "stdout",
     "output_type": "stream",
     "text": [
      "Hello\n",
      "Buisness\n",
      "Private company\n"
     ]
    }
   ],
   "source": [
    "# Polymorphism\n",
    "class father:\n",
    "    def __init__(self):\n",
    "        print(\"Hello\")\n",
    "        \n",
    "class employee:\n",
    "    def private(self):\n",
    "        print(\"Private company\")\n",
    "\n",
    "class unemployee:\n",
    "    def selfemp(self):\n",
    "        print(\"Buisness\")\n",
    "\n",
    "obj_emp=employee()\n",
    "obj_ump=unemployee()\n",
    "#obj_fat=father()\n",
    "\n",
    "obj_fat.__init__()\n",
    "obj_ump.selfemp()\n",
    "obj_emp.private()"
   ]
  },
  {
   "cell_type": "code",
   "execution_count": null,
   "id": "653b06b9",
   "metadata": {},
   "outputs": [],
   "source": [
    "class company:\n",
    "    def __init__(self):\n",
    "            self.name=\"Varun\"\n",
    "class employee:\n",
    "    def __init__(self):\n",
    "        employee. __init__(self)\n",
    "        print(self.name)\n",
    "            \n",
    "obj=employee()\n",
    "print(obj)"
   ]
  },
  {
   "cell_type": "code",
   "execution_count": null,
   "id": "45b1548f",
   "metadata": {},
   "outputs": [],
   "source": []
  },
  {
   "cell_type": "code",
   "execution_count": null,
   "id": "a5fd6263",
   "metadata": {},
   "outputs": [],
   "source": []
  }
 ],
 "metadata": {
  "kernelspec": {
   "display_name": "Python 3 (ipykernel)",
   "language": "python",
   "name": "python3"
  },
  "language_info": {
   "codemirror_mode": {
    "name": "ipython",
    "version": 3
   },
   "file_extension": ".py",
   "mimetype": "text/x-python",
   "name": "python",
   "nbconvert_exporter": "python",
   "pygments_lexer": "ipython3",
   "version": "3.9.7"
  }
 },
 "nbformat": 4,
 "nbformat_minor": 5
}
