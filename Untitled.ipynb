{
 "cells": [
  {
   "cell_type": "code",
   "execution_count": 1,
   "id": "979d214b",
   "metadata": {},
   "outputs": [
    {
     "name": "stdout",
     "output_type": "stream",
     "text": [
      "['apple', 'banana', 'cherry']\n",
      "<class 'list'>\n"
     ]
    }
   ],
   "source": [
    "x = [\"apple\", \"banana\", \"cherry\"]\n",
    "print(x)\n",
    "print(type(x)) \n"
   ]
  },
  {
   "cell_type": "code",
   "execution_count": 3,
   "id": "61dfc596",
   "metadata": {},
   "outputs": [
    {
     "name": "stdout",
     "output_type": "stream",
     "text": [
      "{'name': 'varun', 'age': 21}\n",
      "<class 'dict'>\n"
     ]
    }
   ],
   "source": [
    "x = {\"name\" : \"varun\", \"age\" : 21}\n",
    "print(x)\n",
    "print(type(x)) \n"
   ]
  },
  {
   "cell_type": "code",
   "execution_count": 11,
   "id": "f9a41bca",
   "metadata": {},
   "outputs": [
    {
     "name": "stdout",
     "output_type": "stream",
     "text": [
      "61\n"
     ]
    }
   ],
   "source": [
    "import random\n",
    "print(random.randrange(1, 100))\n"
   ]
  },
  {
   "cell_type": "code",
   "execution_count": 1,
   "id": "00a5d89e",
   "metadata": {},
   "outputs": [
    {
     "name": "stdout",
     "output_type": "stream",
     "text": [
      "False\n"
     ]
    }
   ],
   "source": [
    "var = \"Hai what are you doing??\"\n",
    "print(\"hello\" in var)"
   ]
  },
  {
   "cell_type": "code",
   "execution_count": 2,
   "id": "5e6e6543",
   "metadata": {},
   "outputs": [
    {
     "name": "stdout",
     "output_type": "stream",
     "text": [
      "True\n"
     ]
    }
   ],
   "source": [
    "var = \"Hai what are you doing??\"\n",
    "print(\"hello\"not in var)ng??\""
   ]
  },
  {
   "cell_type": "code",
   "execution_count": 3,
   "id": "3c9a4f03",
   "metadata": {},
   "outputs": [
    {
     "name": "stdout",
     "output_type": "stream",
     "text": [
      "what are \n"
     ]
    }
   ],
   "source": [
    "var = \"Hai what are you doing??\"\n",
    "print(var[4:13])"
   ]
  },
  {
   "cell_type": "code",
   "execution_count": 4,
   "id": "a20b68bc",
   "metadata": {},
   "outputs": [
    {
     "name": "stdout",
     "output_type": "stream",
     "text": [
      "what are you doing??\n"
     ]
    }
   ],
   "source": [
    "var = \"Hai what are you doing??\"\n",
    "print(var[4:])"
   ]
  },
  {
   "cell_type": "code",
   "execution_count": 5,
   "id": "b76ddc9c",
   "metadata": {},
   "outputs": [
    {
     "name": "stdout",
     "output_type": "stream",
     "text": [
      "Hai what are y\n"
     ]
    }
   ],
   "source": [
    "var = \"Hai what are you doing??\"\n",
    "print(var[:14])"
   ]
  },
  {
   "cell_type": "code",
   "execution_count": null,
   "id": "f469f345",
   "metadata": {},
   "outputs": [],
   "source": [
    "var = \"Hai what are you doing??\"\n",
    "print(var[:14])"
   ]
  }
 ],
 "metadata": {
  "kernelspec": {
   "display_name": "Python 3 (ipykernel)",
   "language": "python",
   "name": "python3"
  },
  "language_info": {
   "codemirror_mode": {
    "name": "ipython",
    "version": 3
   },
   "file_extension": ".py",
   "mimetype": "text/x-python",
   "name": "python",
   "nbconvert_exporter": "python",
   "pygments_lexer": "ipython3",
   "version": "3.9.7"
  }
 },
 "nbformat": 4,
 "nbformat_minor": 5
}
